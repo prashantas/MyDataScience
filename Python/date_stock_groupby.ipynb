{
 "cells": [
  {
   "cell_type": "code",
   "execution_count": 2,
   "metadata": {},
   "outputs": [],
   "source": [
    "## https://chrisalbon.com/python/basics/strings_to_datetime/\n",
    "#Step 1:\n",
    "#Write a program to download stock data by calling this URL and save it inside a pandas dataframe\n",
    "#https://www.alphavantage.co/query?function=TIME_SERIES_DAILY&symbol=MSFT&apikey=8WAC2EQWT6CHVMKY&datatype=csv\n",
    "\n",
    "## Step2:\n",
    "#Filter the dataframe to contain only the rows where the open price is highest open price during that week. \n",
    "#A week is defined as Monday - Friday\n",
    "\n",
    "Save this filtered dataframe to an output file.\n",
    "import pandas as pd\n",
    "\n",
    "df =  pd.read_csv(\"https://www.alphavantage.co/query?function=TIME_SERIES_DAILY&symbol=MSFT&apikey=8WAC2EQWT6CHVMKY&datatype=csv\")"
   ]
  },
  {
   "cell_type": "code",
   "execution_count": 3,
   "metadata": {},
   "outputs": [
    {
     "data": {
      "text/html": [
       "<div>\n",
       "<style>\n",
       "    .dataframe thead tr:only-child th {\n",
       "        text-align: right;\n",
       "    }\n",
       "\n",
       "    .dataframe thead th {\n",
       "        text-align: left;\n",
       "    }\n",
       "\n",
       "    .dataframe tbody tr th {\n",
       "        vertical-align: top;\n",
       "    }\n",
       "</style>\n",
       "<table border=\"1\" class=\"dataframe\">\n",
       "  <thead>\n",
       "    <tr style=\"text-align: right;\">\n",
       "      <th></th>\n",
       "      <th>timestamp</th>\n",
       "      <th>open</th>\n",
       "      <th>high</th>\n",
       "      <th>low</th>\n",
       "      <th>close</th>\n",
       "      <th>volume</th>\n",
       "    </tr>\n",
       "  </thead>\n",
       "  <tbody>\n",
       "    <tr>\n",
       "      <th>0</th>\n",
       "      <td>2018-02-21</td>\n",
       "      <td>92.980</td>\n",
       "      <td>93.3595</td>\n",
       "      <td>91.49</td>\n",
       "      <td>91.49</td>\n",
       "      <td>26663828</td>\n",
       "    </tr>\n",
       "    <tr>\n",
       "      <th>1</th>\n",
       "      <td>2018-02-20</td>\n",
       "      <td>91.475</td>\n",
       "      <td>93.0600</td>\n",
       "      <td>91.01</td>\n",
       "      <td>92.72</td>\n",
       "      <td>30107057</td>\n",
       "    </tr>\n",
       "    <tr>\n",
       "      <th>2</th>\n",
       "      <td>2018-02-16</td>\n",
       "      <td>92.450</td>\n",
       "      <td>93.5000</td>\n",
       "      <td>91.80</td>\n",
       "      <td>92.00</td>\n",
       "      <td>30188535</td>\n",
       "    </tr>\n",
       "    <tr>\n",
       "      <th>3</th>\n",
       "      <td>2018-02-15</td>\n",
       "      <td>91.210</td>\n",
       "      <td>92.7200</td>\n",
       "      <td>90.62</td>\n",
       "      <td>92.66</td>\n",
       "      <td>27407914</td>\n",
       "    </tr>\n",
       "    <tr>\n",
       "      <th>4</th>\n",
       "      <td>2018-02-14</td>\n",
       "      <td>88.510</td>\n",
       "      <td>90.9900</td>\n",
       "      <td>88.41</td>\n",
       "      <td>90.81</td>\n",
       "      <td>34314101</td>\n",
       "    </tr>\n",
       "  </tbody>\n",
       "</table>\n",
       "</div>"
      ],
      "text/plain": [
       "    timestamp    open     high    low  close    volume\n",
       "0  2018-02-21  92.980  93.3595  91.49  91.49  26663828\n",
       "1  2018-02-20  91.475  93.0600  91.01  92.72  30107057\n",
       "2  2018-02-16  92.450  93.5000  91.80  92.00  30188535\n",
       "3  2018-02-15  91.210  92.7200  90.62  92.66  27407914\n",
       "4  2018-02-14  88.510  90.9900  88.41  90.81  34314101"
      ]
     },
     "execution_count": 3,
     "metadata": {},
     "output_type": "execute_result"
    }
   ],
   "source": [
    "df.head()"
   ]
  },
  {
   "cell_type": "code",
   "execution_count": 13,
   "metadata": {},
   "outputs": [
    {
     "data": {
      "text/plain": [
       "(100, 6)"
      ]
     },
     "execution_count": 13,
     "metadata": {},
     "output_type": "execute_result"
    }
   ],
   "source": [
    "df.shape"
   ]
  },
  {
   "cell_type": "code",
   "execution_count": 14,
   "metadata": {},
   "outputs": [
    {
     "data": {
      "text/plain": [
       "timestamp     object\n",
       "open         float64\n",
       "high         float64\n",
       "low          float64\n",
       "close        float64\n",
       "volume         int64\n",
       "dtype: object"
      ]
     },
     "execution_count": 14,
     "metadata": {},
     "output_type": "execute_result"
    }
   ],
   "source": [
    "df.dtypes"
   ]
  },
  {
   "cell_type": "code",
   "execution_count": 18,
   "metadata": {},
   "outputs": [],
   "source": [
    "df['datetime'] = pd.to_datetime(df.timestamp)"
   ]
  },
  {
   "cell_type": "code",
   "execution_count": 19,
   "metadata": {},
   "outputs": [
    {
     "data": {
      "text/html": [
       "<div>\n",
       "<style>\n",
       "    .dataframe thead tr:only-child th {\n",
       "        text-align: right;\n",
       "    }\n",
       "\n",
       "    .dataframe thead th {\n",
       "        text-align: left;\n",
       "    }\n",
       "\n",
       "    .dataframe tbody tr th {\n",
       "        vertical-align: top;\n",
       "    }\n",
       "</style>\n",
       "<table border=\"1\" class=\"dataframe\">\n",
       "  <thead>\n",
       "    <tr style=\"text-align: right;\">\n",
       "      <th></th>\n",
       "      <th>timestamp</th>\n",
       "      <th>open</th>\n",
       "      <th>high</th>\n",
       "      <th>low</th>\n",
       "      <th>close</th>\n",
       "      <th>volume</th>\n",
       "      <th>datetime</th>\n",
       "    </tr>\n",
       "  </thead>\n",
       "  <tbody>\n",
       "    <tr>\n",
       "      <th>0</th>\n",
       "      <td>2018-02-21</td>\n",
       "      <td>92.980</td>\n",
       "      <td>93.3595</td>\n",
       "      <td>91.49</td>\n",
       "      <td>91.49</td>\n",
       "      <td>26663828</td>\n",
       "      <td>2018-02-21</td>\n",
       "    </tr>\n",
       "    <tr>\n",
       "      <th>1</th>\n",
       "      <td>2018-02-20</td>\n",
       "      <td>91.475</td>\n",
       "      <td>93.0600</td>\n",
       "      <td>91.01</td>\n",
       "      <td>92.72</td>\n",
       "      <td>30107057</td>\n",
       "      <td>2018-02-20</td>\n",
       "    </tr>\n",
       "    <tr>\n",
       "      <th>2</th>\n",
       "      <td>2018-02-16</td>\n",
       "      <td>92.450</td>\n",
       "      <td>93.5000</td>\n",
       "      <td>91.80</td>\n",
       "      <td>92.00</td>\n",
       "      <td>30188535</td>\n",
       "      <td>2018-02-16</td>\n",
       "    </tr>\n",
       "    <tr>\n",
       "      <th>3</th>\n",
       "      <td>2018-02-15</td>\n",
       "      <td>91.210</td>\n",
       "      <td>92.7200</td>\n",
       "      <td>90.62</td>\n",
       "      <td>92.66</td>\n",
       "      <td>27407914</td>\n",
       "      <td>2018-02-15</td>\n",
       "    </tr>\n",
       "    <tr>\n",
       "      <th>4</th>\n",
       "      <td>2018-02-14</td>\n",
       "      <td>88.510</td>\n",
       "      <td>90.9900</td>\n",
       "      <td>88.41</td>\n",
       "      <td>90.81</td>\n",
       "      <td>34314101</td>\n",
       "      <td>2018-02-14</td>\n",
       "    </tr>\n",
       "  </tbody>\n",
       "</table>\n",
       "</div>"
      ],
      "text/plain": [
       "    timestamp    open     high    low  close    volume   datetime\n",
       "0  2018-02-21  92.980  93.3595  91.49  91.49  26663828 2018-02-21\n",
       "1  2018-02-20  91.475  93.0600  91.01  92.72  30107057 2018-02-20\n",
       "2  2018-02-16  92.450  93.5000  91.80  92.00  30188535 2018-02-16\n",
       "3  2018-02-15  91.210  92.7200  90.62  92.66  27407914 2018-02-15\n",
       "4  2018-02-14  88.510  90.9900  88.41  90.81  34314101 2018-02-14"
      ]
     },
     "execution_count": 19,
     "metadata": {},
     "output_type": "execute_result"
    }
   ],
   "source": [
    "df.head()"
   ]
  },
  {
   "cell_type": "code",
   "execution_count": 20,
   "metadata": {},
   "outputs": [
    {
     "data": {
      "text/plain": [
       "timestamp            object\n",
       "open                float64\n",
       "high                float64\n",
       "low                 float64\n",
       "close               float64\n",
       "volume                int64\n",
       "datetime     datetime64[ns]\n",
       "dtype: object"
      ]
     },
     "execution_count": 20,
     "metadata": {},
     "output_type": "execute_result"
    }
   ],
   "source": [
    "df.dtypes"
   ]
  },
  {
   "cell_type": "code",
   "execution_count": 22,
   "metadata": {},
   "outputs": [],
   "source": [
    "df.drop('datetime',axis=1,inplace=True)"
   ]
  },
  {
   "cell_type": "code",
   "execution_count": 23,
   "metadata": {},
   "outputs": [
    {
     "data": {
      "text/html": [
       "<div>\n",
       "<style>\n",
       "    .dataframe thead tr:only-child th {\n",
       "        text-align: right;\n",
       "    }\n",
       "\n",
       "    .dataframe thead th {\n",
       "        text-align: left;\n",
       "    }\n",
       "\n",
       "    .dataframe tbody tr th {\n",
       "        vertical-align: top;\n",
       "    }\n",
       "</style>\n",
       "<table border=\"1\" class=\"dataframe\">\n",
       "  <thead>\n",
       "    <tr style=\"text-align: right;\">\n",
       "      <th></th>\n",
       "      <th>timestamp</th>\n",
       "      <th>open</th>\n",
       "      <th>high</th>\n",
       "      <th>low</th>\n",
       "      <th>close</th>\n",
       "      <th>volume</th>\n",
       "    </tr>\n",
       "  </thead>\n",
       "  <tbody>\n",
       "    <tr>\n",
       "      <th>0</th>\n",
       "      <td>2018-02-21</td>\n",
       "      <td>92.980</td>\n",
       "      <td>93.3595</td>\n",
       "      <td>91.49</td>\n",
       "      <td>91.49</td>\n",
       "      <td>26663828</td>\n",
       "    </tr>\n",
       "    <tr>\n",
       "      <th>1</th>\n",
       "      <td>2018-02-20</td>\n",
       "      <td>91.475</td>\n",
       "      <td>93.0600</td>\n",
       "      <td>91.01</td>\n",
       "      <td>92.72</td>\n",
       "      <td>30107057</td>\n",
       "    </tr>\n",
       "    <tr>\n",
       "      <th>2</th>\n",
       "      <td>2018-02-16</td>\n",
       "      <td>92.450</td>\n",
       "      <td>93.5000</td>\n",
       "      <td>91.80</td>\n",
       "      <td>92.00</td>\n",
       "      <td>30188535</td>\n",
       "    </tr>\n",
       "    <tr>\n",
       "      <th>3</th>\n",
       "      <td>2018-02-15</td>\n",
       "      <td>91.210</td>\n",
       "      <td>92.7200</td>\n",
       "      <td>90.62</td>\n",
       "      <td>92.66</td>\n",
       "      <td>27407914</td>\n",
       "    </tr>\n",
       "    <tr>\n",
       "      <th>4</th>\n",
       "      <td>2018-02-14</td>\n",
       "      <td>88.510</td>\n",
       "      <td>90.9900</td>\n",
       "      <td>88.41</td>\n",
       "      <td>90.81</td>\n",
       "      <td>34314101</td>\n",
       "    </tr>\n",
       "  </tbody>\n",
       "</table>\n",
       "</div>"
      ],
      "text/plain": [
       "    timestamp    open     high    low  close    volume\n",
       "0  2018-02-21  92.980  93.3595  91.49  91.49  26663828\n",
       "1  2018-02-20  91.475  93.0600  91.01  92.72  30107057\n",
       "2  2018-02-16  92.450  93.5000  91.80  92.00  30188535\n",
       "3  2018-02-15  91.210  92.7200  90.62  92.66  27407914\n",
       "4  2018-02-14  88.510  90.9900  88.41  90.81  34314101"
      ]
     },
     "execution_count": 23,
     "metadata": {},
     "output_type": "execute_result"
    }
   ],
   "source": [
    "df.head()"
   ]
  },
  {
   "cell_type": "code",
   "execution_count": 24,
   "metadata": {
    "collapsed": true
   },
   "outputs": [],
   "source": [
    "df['timestamp'] = pd.to_datetime(df.timestamp)"
   ]
  },
  {
   "cell_type": "code",
   "execution_count": 25,
   "metadata": {},
   "outputs": [
    {
     "data": {
      "text/html": [
       "<div>\n",
       "<style>\n",
       "    .dataframe thead tr:only-child th {\n",
       "        text-align: right;\n",
       "    }\n",
       "\n",
       "    .dataframe thead th {\n",
       "        text-align: left;\n",
       "    }\n",
       "\n",
       "    .dataframe tbody tr th {\n",
       "        vertical-align: top;\n",
       "    }\n",
       "</style>\n",
       "<table border=\"1\" class=\"dataframe\">\n",
       "  <thead>\n",
       "    <tr style=\"text-align: right;\">\n",
       "      <th></th>\n",
       "      <th>timestamp</th>\n",
       "      <th>open</th>\n",
       "      <th>high</th>\n",
       "      <th>low</th>\n",
       "      <th>close</th>\n",
       "      <th>volume</th>\n",
       "    </tr>\n",
       "  </thead>\n",
       "  <tbody>\n",
       "    <tr>\n",
       "      <th>0</th>\n",
       "      <td>2018-02-21</td>\n",
       "      <td>92.980</td>\n",
       "      <td>93.3595</td>\n",
       "      <td>91.49</td>\n",
       "      <td>91.49</td>\n",
       "      <td>26663828</td>\n",
       "    </tr>\n",
       "    <tr>\n",
       "      <th>1</th>\n",
       "      <td>2018-02-20</td>\n",
       "      <td>91.475</td>\n",
       "      <td>93.0600</td>\n",
       "      <td>91.01</td>\n",
       "      <td>92.72</td>\n",
       "      <td>30107057</td>\n",
       "    </tr>\n",
       "    <tr>\n",
       "      <th>2</th>\n",
       "      <td>2018-02-16</td>\n",
       "      <td>92.450</td>\n",
       "      <td>93.5000</td>\n",
       "      <td>91.80</td>\n",
       "      <td>92.00</td>\n",
       "      <td>30188535</td>\n",
       "    </tr>\n",
       "    <tr>\n",
       "      <th>3</th>\n",
       "      <td>2018-02-15</td>\n",
       "      <td>91.210</td>\n",
       "      <td>92.7200</td>\n",
       "      <td>90.62</td>\n",
       "      <td>92.66</td>\n",
       "      <td>27407914</td>\n",
       "    </tr>\n",
       "    <tr>\n",
       "      <th>4</th>\n",
       "      <td>2018-02-14</td>\n",
       "      <td>88.510</td>\n",
       "      <td>90.9900</td>\n",
       "      <td>88.41</td>\n",
       "      <td>90.81</td>\n",
       "      <td>34314101</td>\n",
       "    </tr>\n",
       "  </tbody>\n",
       "</table>\n",
       "</div>"
      ],
      "text/plain": [
       "   timestamp    open     high    low  close    volume\n",
       "0 2018-02-21  92.980  93.3595  91.49  91.49  26663828\n",
       "1 2018-02-20  91.475  93.0600  91.01  92.72  30107057\n",
       "2 2018-02-16  92.450  93.5000  91.80  92.00  30188535\n",
       "3 2018-02-15  91.210  92.7200  90.62  92.66  27407914\n",
       "4 2018-02-14  88.510  90.9900  88.41  90.81  34314101"
      ]
     },
     "execution_count": 25,
     "metadata": {},
     "output_type": "execute_result"
    }
   ],
   "source": [
    "df.head()"
   ]
  },
  {
   "cell_type": "code",
   "execution_count": 26,
   "metadata": {},
   "outputs": [
    {
     "data": {
      "text/plain": [
       "timestamp    datetime64[ns]\n",
       "open                float64\n",
       "high                float64\n",
       "low                 float64\n",
       "close               float64\n",
       "volume                int64\n",
       "dtype: object"
      ]
     },
     "execution_count": 26,
     "metadata": {},
     "output_type": "execute_result"
    }
   ],
   "source": [
    "df.dtypes"
   ]
  },
  {
   "cell_type": "code",
   "execution_count": 29,
   "metadata": {},
   "outputs": [],
   "source": [
    "col1 = df.iloc[:,0]"
   ]
  },
  {
   "cell_type": "code",
   "execution_count": 31,
   "metadata": {},
   "outputs": [],
   "source": [
    "df['weekOfYear'] = df['timestamp'].dt.weekofyear"
   ]
  },
  {
   "cell_type": "code",
   "execution_count": 32,
   "metadata": {},
   "outputs": [
    {
     "data": {
      "text/html": [
       "<div>\n",
       "<style>\n",
       "    .dataframe thead tr:only-child th {\n",
       "        text-align: right;\n",
       "    }\n",
       "\n",
       "    .dataframe thead th {\n",
       "        text-align: left;\n",
       "    }\n",
       "\n",
       "    .dataframe tbody tr th {\n",
       "        vertical-align: top;\n",
       "    }\n",
       "</style>\n",
       "<table border=\"1\" class=\"dataframe\">\n",
       "  <thead>\n",
       "    <tr style=\"text-align: right;\">\n",
       "      <th></th>\n",
       "      <th>timestamp</th>\n",
       "      <th>open</th>\n",
       "      <th>high</th>\n",
       "      <th>low</th>\n",
       "      <th>close</th>\n",
       "      <th>volume</th>\n",
       "      <th>weekOfYear</th>\n",
       "    </tr>\n",
       "  </thead>\n",
       "  <tbody>\n",
       "    <tr>\n",
       "      <th>0</th>\n",
       "      <td>2018-02-21</td>\n",
       "      <td>92.980</td>\n",
       "      <td>93.3595</td>\n",
       "      <td>91.49</td>\n",
       "      <td>91.49</td>\n",
       "      <td>26663828</td>\n",
       "      <td>8</td>\n",
       "    </tr>\n",
       "    <tr>\n",
       "      <th>1</th>\n",
       "      <td>2018-02-20</td>\n",
       "      <td>91.475</td>\n",
       "      <td>93.0600</td>\n",
       "      <td>91.01</td>\n",
       "      <td>92.72</td>\n",
       "      <td>30107057</td>\n",
       "      <td>8</td>\n",
       "    </tr>\n",
       "    <tr>\n",
       "      <th>2</th>\n",
       "      <td>2018-02-16</td>\n",
       "      <td>92.450</td>\n",
       "      <td>93.5000</td>\n",
       "      <td>91.80</td>\n",
       "      <td>92.00</td>\n",
       "      <td>30188535</td>\n",
       "      <td>7</td>\n",
       "    </tr>\n",
       "    <tr>\n",
       "      <th>3</th>\n",
       "      <td>2018-02-15</td>\n",
       "      <td>91.210</td>\n",
       "      <td>92.7200</td>\n",
       "      <td>90.62</td>\n",
       "      <td>92.66</td>\n",
       "      <td>27407914</td>\n",
       "      <td>7</td>\n",
       "    </tr>\n",
       "    <tr>\n",
       "      <th>4</th>\n",
       "      <td>2018-02-14</td>\n",
       "      <td>88.510</td>\n",
       "      <td>90.9900</td>\n",
       "      <td>88.41</td>\n",
       "      <td>90.81</td>\n",
       "      <td>34314101</td>\n",
       "      <td>7</td>\n",
       "    </tr>\n",
       "  </tbody>\n",
       "</table>\n",
       "</div>"
      ],
      "text/plain": [
       "   timestamp    open     high    low  close    volume  weekOfYear\n",
       "0 2018-02-21  92.980  93.3595  91.49  91.49  26663828           8\n",
       "1 2018-02-20  91.475  93.0600  91.01  92.72  30107057           8\n",
       "2 2018-02-16  92.450  93.5000  91.80  92.00  30188535           7\n",
       "3 2018-02-15  91.210  92.7200  90.62  92.66  27407914           7\n",
       "4 2018-02-14  88.510  90.9900  88.41  90.81  34314101           7"
      ]
     },
     "execution_count": 32,
     "metadata": {},
     "output_type": "execute_result"
    }
   ],
   "source": [
    "df.head()"
   ]
  },
  {
   "cell_type": "code",
   "execution_count": 33,
   "metadata": {
    "collapsed": true
   },
   "outputs": [],
   "source": [
    "## http://hamelg.blogspot.in/2015/11/python-for-data-analysis-part-17.html\n",
    "df['year'] = df['timestamp'].dt.year\n",
    "df['month'] = df['timestamp'].dt.month"
   ]
  },
  {
   "cell_type": "code",
   "execution_count": 34,
   "metadata": {},
   "outputs": [
    {
     "data": {
      "text/html": [
       "<div>\n",
       "<style>\n",
       "    .dataframe thead tr:only-child th {\n",
       "        text-align: right;\n",
       "    }\n",
       "\n",
       "    .dataframe thead th {\n",
       "        text-align: left;\n",
       "    }\n",
       "\n",
       "    .dataframe tbody tr th {\n",
       "        vertical-align: top;\n",
       "    }\n",
       "</style>\n",
       "<table border=\"1\" class=\"dataframe\">\n",
       "  <thead>\n",
       "    <tr style=\"text-align: right;\">\n",
       "      <th></th>\n",
       "      <th>timestamp</th>\n",
       "      <th>open</th>\n",
       "      <th>high</th>\n",
       "      <th>low</th>\n",
       "      <th>close</th>\n",
       "      <th>volume</th>\n",
       "      <th>weekOfYear</th>\n",
       "      <th>year</th>\n",
       "      <th>month</th>\n",
       "    </tr>\n",
       "  </thead>\n",
       "  <tbody>\n",
       "    <tr>\n",
       "      <th>0</th>\n",
       "      <td>2018-02-21</td>\n",
       "      <td>92.980</td>\n",
       "      <td>93.3595</td>\n",
       "      <td>91.49</td>\n",
       "      <td>91.49</td>\n",
       "      <td>26663828</td>\n",
       "      <td>8</td>\n",
       "      <td>2018</td>\n",
       "      <td>2</td>\n",
       "    </tr>\n",
       "    <tr>\n",
       "      <th>1</th>\n",
       "      <td>2018-02-20</td>\n",
       "      <td>91.475</td>\n",
       "      <td>93.0600</td>\n",
       "      <td>91.01</td>\n",
       "      <td>92.72</td>\n",
       "      <td>30107057</td>\n",
       "      <td>8</td>\n",
       "      <td>2018</td>\n",
       "      <td>2</td>\n",
       "    </tr>\n",
       "    <tr>\n",
       "      <th>2</th>\n",
       "      <td>2018-02-16</td>\n",
       "      <td>92.450</td>\n",
       "      <td>93.5000</td>\n",
       "      <td>91.80</td>\n",
       "      <td>92.00</td>\n",
       "      <td>30188535</td>\n",
       "      <td>7</td>\n",
       "      <td>2018</td>\n",
       "      <td>2</td>\n",
       "    </tr>\n",
       "    <tr>\n",
       "      <th>3</th>\n",
       "      <td>2018-02-15</td>\n",
       "      <td>91.210</td>\n",
       "      <td>92.7200</td>\n",
       "      <td>90.62</td>\n",
       "      <td>92.66</td>\n",
       "      <td>27407914</td>\n",
       "      <td>7</td>\n",
       "      <td>2018</td>\n",
       "      <td>2</td>\n",
       "    </tr>\n",
       "    <tr>\n",
       "      <th>4</th>\n",
       "      <td>2018-02-14</td>\n",
       "      <td>88.510</td>\n",
       "      <td>90.9900</td>\n",
       "      <td>88.41</td>\n",
       "      <td>90.81</td>\n",
       "      <td>34314101</td>\n",
       "      <td>7</td>\n",
       "      <td>2018</td>\n",
       "      <td>2</td>\n",
       "    </tr>\n",
       "  </tbody>\n",
       "</table>\n",
       "</div>"
      ],
      "text/plain": [
       "   timestamp    open     high    low  close    volume  weekOfYear  year  month\n",
       "0 2018-02-21  92.980  93.3595  91.49  91.49  26663828           8  2018      2\n",
       "1 2018-02-20  91.475  93.0600  91.01  92.72  30107057           8  2018      2\n",
       "2 2018-02-16  92.450  93.5000  91.80  92.00  30188535           7  2018      2\n",
       "3 2018-02-15  91.210  92.7200  90.62  92.66  27407914           7  2018      2\n",
       "4 2018-02-14  88.510  90.9900  88.41  90.81  34314101           7  2018      2"
      ]
     },
     "execution_count": 34,
     "metadata": {},
     "output_type": "execute_result"
    }
   ],
   "source": [
    "df.head()"
   ]
  },
  {
   "cell_type": "code",
   "execution_count": 39,
   "metadata": {
    "collapsed": true
   },
   "outputs": [],
   "source": [
    "dfmaxOpen = df.groupby(\"weekOfYear\").max()['open']"
   ]
  },
  {
   "cell_type": "code",
   "execution_count": 40,
   "metadata": {},
   "outputs": [
    {
     "data": {
      "text/plain": [
       "weekOfYear\n",
       "1     87.66\n",
       "2     88.67\n",
       "3     90.14\n",
       "4     93.12\n",
       "5     95.14\n",
       "6     90.56\n",
       "7     92.45\n",
       "8     92.98\n",
       "39    73.94\n",
       "40    75.67\n",
       "41    77.59\n",
       "42    78.32\n",
       "43    84.37\n",
       "44    84.36\n",
       "45    84.77\n",
       "46    83.66\n",
       "47    83.83\n",
       "48    84.71\n",
       "49    84.42\n",
       "50    85.74\n",
       "51    87.12\n",
       "52    85.90\n",
       "Name: open, dtype: float64"
      ]
     },
     "execution_count": 40,
     "metadata": {},
     "output_type": "execute_result"
    }
   ],
   "source": [
    "dfmaxOpen"
   ]
  },
  {
   "cell_type": "code",
   "execution_count": null,
   "metadata": {
    "collapsed": true
   },
   "outputs": [],
   "source": [
    "##  http://hamelg.blogspot.in/2015/11/python-for-data-analysis-part-18.html"
   ]
  },
  {
   "cell_type": "code",
   "execution_count": null,
   "metadata": {
    "collapsed": true
   },
   "outputs": [],
   "source": []
  },
  {
   "cell_type": "code",
   "execution_count": null,
   "metadata": {
    "collapsed": true
   },
   "outputs": [],
   "source": []
  },
  {
   "cell_type": "code",
   "execution_count": null,
   "metadata": {
    "collapsed": true
   },
   "outputs": [],
   "source": []
  }
 ],
 "metadata": {
  "kernelspec": {
   "display_name": "Python 3",
   "language": "python",
   "name": "python3"
  },
  "language_info": {
   "codemirror_mode": {
    "name": "ipython",
    "version": 3
   },
   "file_extension": ".py",
   "mimetype": "text/x-python",
   "name": "python",
   "nbconvert_exporter": "python",
   "pygments_lexer": "ipython3",
   "version": "3.6.1"
  }
 },
 "nbformat": 4,
 "nbformat_minor": 2
}
