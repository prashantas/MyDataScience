{
 "cells": [
  {
   "cell_type": "markdown",
   "metadata": {},
   "source": [
    "https://cambridgespark.com/content/tutorials/deep-learning-for-complete-beginners-recognising-handwritten-digits/index.html"
   ]
  },
  {
   "cell_type": "code",
   "execution_count": 1,
   "metadata": {},
   "outputs": [
    {
     "name": "stderr",
     "output_type": "stream",
     "text": [
      "Using TensorFlow backend.\n"
     ]
    }
   ],
   "source": [
    "from keras.datasets import mnist # subroutines for fetching the MNIST dataset\n",
    "from keras.models import Model # basic class for specifying and training a neural network\n",
    "from keras.layers import Input, Dense # the two types of neural network layer we will be using\n",
    "from keras.utils import np_utils # utilities for one-hot encoding of ground truth values"
   ]
  },
  {
   "cell_type": "code",
   "execution_count": 2,
   "metadata": {
    "collapsed": true
   },
   "outputs": [],
   "source": [
    "batch_size = 128 # in each iteration, we consider 128 training examples at once\n",
    "num_epochs = 20 # we iterate twenty times over the entire training set\n",
    "hidden_size = 512 # there will be 512 neurons in both hidden layers"
   ]
  },
  {
   "cell_type": "markdown",
   "metadata": {},
   "source": [
    "Now it is time to load and preprocess the MNIST data set. Keras makes this extremely simple, with a fixed interface for fetching and extracting the data from the remote server, directly into NumPy arrays.\n",
    "\n",
    "To preprocess the input data, we will first flatten the images into 1D (as we will consider each pixel as a separate input feature), and we will then force the pixel intensity values to be in the [0,1][0,1] range by dividing them by 255255. This is a very simple way to \"normalise\" the data, and I will be discussing other ways in future tutorials in this series.\n",
    "\n",
    "A good approach to a classification problem is to use probabilistic classification, i.e. to have a single output neuron for each class, outputting a value which corresponds to the probability of the input being of that particular class. This implies a need to transform the training output data into a \"one-hot\" encoding: for example, if the desired output class is 33, and there are five classes overall (labelled 00 to 44), then an appropriate one-hot encoding is: [0 0 0 1 0][0 0 0 1 0]. Keras, once again, provides us with an out-of-the-box functionality for doing just that."
   ]
  },
  {
   "cell_type": "code",
   "execution_count": 3,
   "metadata": {},
   "outputs": [],
   "source": [
    "(X_train, y_train), (X_test, y_test) = mnist.load_data() # fetch MNIST data   ##  https://keras.io/datasets/"
   ]
  },
  {
   "cell_type": "code",
   "execution_count": 4,
   "metadata": {},
   "outputs": [
    {
     "data": {
      "text/plain": [
       "(60000, 28, 28)"
      ]
     },
     "execution_count": 4,
     "metadata": {},
     "output_type": "execute_result"
    }
   ],
   "source": [
    "X_train.shape"
   ]
  },
  {
   "cell_type": "code",
   "execution_count": 5,
   "metadata": {},
   "outputs": [
    {
     "data": {
      "text/plain": [
       "(60000,)"
      ]
     },
     "execution_count": 5,
     "metadata": {},
     "output_type": "execute_result"
    }
   ],
   "source": [
    "y_train.shape"
   ]
  },
  {
   "cell_type": "code",
   "execution_count": 6,
   "metadata": {},
   "outputs": [
    {
     "data": {
      "text/plain": [
       "(10000, 28, 28)"
      ]
     },
     "execution_count": 6,
     "metadata": {},
     "output_type": "execute_result"
    }
   ],
   "source": [
    "X_test.shape"
   ]
  },
  {
   "cell_type": "code",
   "execution_count": 7,
   "metadata": {
    "collapsed": true
   },
   "outputs": [],
   "source": [
    "num_train = 60000 # there are 60000 training examples in MNIST\n",
    "num_test = 10000 # there are 10000 test examples in MNIST\n",
    "\n",
    "height, width, depth = 28, 28, 1 # MNIST images are 28x28 and greyscale\n",
    "num_classes = 10 # there are 10 classes (1 per digit)"
   ]
  },
  {
   "cell_type": "code",
   "execution_count": 8,
   "metadata": {
    "collapsed": true
   },
   "outputs": [],
   "source": [
    "\n",
    "X_train = X_train.reshape(num_train, height * width) # Flatten data to 1D\n",
    "X_test = X_test.reshape(num_test, height * width) # Flatten data to 1D\n",
    "X_train = X_train.astype('float32') \n",
    "X_test = X_test.astype('float32')\n",
    "X_train /= 255 # Normalise data to [0, 1] range\n",
    "X_test /= 255 # Normalise data to [0, 1] range\n",
    "\n",
    "Y_train = np_utils.to_categorical(y_train, num_classes) # One-hot encode the labels\n",
    "Y_test = np_utils.to_categorical(y_test, num_classes) # One-hot encode the labels"
   ]
  },
  {
   "cell_type": "markdown",
   "metadata": {},
   "source": [
    "An excellent feature of Keras, that sets it apart from frameworks such as TensorFlow, is automatic inference of shapes; we only need to specify the shape of the input layer, and afterwards Keras will take care of initialising the weight variables with proper shapes. Once all the layers have been defined, we simply need to identify the input(s) and the output(s) in order to define our model, as illustrated below."
   ]
  },
  {
   "cell_type": "code",
   "execution_count": 9,
   "metadata": {
    "collapsed": true
   },
   "outputs": [],
   "source": [
    "inp = Input(shape=(height * width,)) # Our input is a 1D vector of size 784\n",
    "hidden_1 = Dense(hidden_size, activation='relu')(inp) # First hidden ReLU layer\n",
    "hidden_2 = Dense(hidden_size, activation='relu')(hidden_1) # Second hidden ReLU layer\n",
    "out = Dense(num_classes, activation='softmax')(hidden_2) # Output softmax layer\n",
    "\n",
    "model = Model(inputs=inp, outputs=out) # To define a model, just specify its input and output layers"
   ]
  },
  {
   "cell_type": "code",
   "execution_count": 10,
   "metadata": {
    "collapsed": true
   },
   "outputs": [],
   "source": [
    "model.compile(loss='categorical_crossentropy', # using the cross-entropy loss function\n",
    "              optimizer='adam', # using the Adam optimiser\n",
    "              metrics=['accuracy']) # reporting the accuracy"
   ]
  },
  {
   "cell_type": "markdown",
   "metadata": {},
   "source": [
    "Finally, we call the training algorithm with the determined batch size and epoch count. It is good practice to set aside a fraction of the training data to be used just for verification that our algorithm is (still) properly generalising (this is commonly referred to as the validation set); here we will hold out 10%10% of the data for this purpose.\n",
    "\n",
    "An excellent out-of-the-box feature of Keras is verbosity; it's able to provide detailed real-time pretty-printing of the training algorithm's progress."
   ]
  },
  {
   "cell_type": "code",
   "execution_count": 11,
   "metadata": {},
   "outputs": [
    {
     "name": "stdout",
     "output_type": "stream",
     "text": [
      "Train on 54000 samples, validate on 6000 samples\n",
      "Epoch 1/20\n",
      "54000/54000 [==============================] - 11s - loss: 0.2297 - acc: 0.9332 - val_loss: 0.0992 - val_acc: 0.9697\n",
      "Epoch 2/20\n",
      "54000/54000 [==============================] - 11s - loss: 0.0838 - acc: 0.9736 - val_loss: 0.0726 - val_acc: 0.9787\n",
      "Epoch 3/20\n",
      "54000/54000 [==============================] - 10s - loss: 0.0533 - acc: 0.9830 - val_loss: 0.0661 - val_acc: 0.9803\n",
      "Epoch 4/20\n",
      "54000/54000 [==============================] - 9s - loss: 0.0357 - acc: 0.9887 - val_loss: 0.0731 - val_acc: 0.9792\n",
      "Epoch 5/20\n",
      "54000/54000 [==============================] - 9s - loss: 0.0284 - acc: 0.9907 - val_loss: 0.0939 - val_acc: 0.9750\n",
      "Epoch 6/20\n",
      "54000/54000 [==============================] - 10s - loss: 0.0232 - acc: 0.9922 - val_loss: 0.0715 - val_acc: 0.9812\n",
      "Epoch 7/20\n",
      "54000/54000 [==============================] - 10s - loss: 0.0173 - acc: 0.9943 - val_loss: 0.0923 - val_acc: 0.9767\n",
      "Epoch 8/20\n",
      "54000/54000 [==============================] - 11s - loss: 0.0189 - acc: 0.9936 - val_loss: 0.0793 - val_acc: 0.9817\n",
      "Epoch 9/20\n",
      "54000/54000 [==============================] - 11s - loss: 0.0148 - acc: 0.9949 - val_loss: 0.1058 - val_acc: 0.9763\n",
      "Epoch 10/20\n",
      "54000/54000 [==============================] - 10s - loss: 0.0141 - acc: 0.9952 - val_loss: 0.0857 - val_acc: 0.9810\n",
      "Epoch 11/20\n",
      "54000/54000 [==============================] - 11s - loss: 0.0136 - acc: 0.9956 - val_loss: 0.0793 - val_acc: 0.9840\n",
      "Epoch 12/20\n",
      "54000/54000 [==============================] - 10s - loss: 0.0080 - acc: 0.9974 - val_loss: 0.0785 - val_acc: 0.9833\n",
      "Epoch 13/20\n",
      "54000/54000 [==============================] - 10s - loss: 0.0112 - acc: 0.9966 - val_loss: 0.0929 - val_acc: 0.9800\n",
      "Epoch 14/20\n",
      "54000/54000 [==============================] - 11s - loss: 0.0120 - acc: 0.9959 - val_loss: 0.0946 - val_acc: 0.9805\n",
      "Epoch 15/20\n",
      "54000/54000 [==============================] - 11s - loss: 0.0079 - acc: 0.9973 - val_loss: 0.0805 - val_acc: 0.9840\n",
      "Epoch 16/20\n",
      "54000/54000 [==============================] - 11s - loss: 0.0078 - acc: 0.9976 - val_loss: 0.0916 - val_acc: 0.9817\n",
      "Epoch 17/20\n",
      "54000/54000 [==============================] - 11s - loss: 0.0093 - acc: 0.9970 - val_loss: 0.0894 - val_acc: 0.9825\n",
      "Epoch 18/20\n",
      "54000/54000 [==============================] - 11s - loss: 0.0100 - acc: 0.9966 - val_loss: 0.0844 - val_acc: 0.9843\n",
      "Epoch 19/20\n",
      "54000/54000 [==============================] - 11s - loss: 0.0046 - acc: 0.9984 - val_loss: 0.0848 - val_acc: 0.9838\n",
      "Epoch 20/20\n",
      "54000/54000 [==============================] - 11s - loss: 0.0050 - acc: 0.9984 - val_loss: 0.1011 - val_acc: 0.9810\n"
     ]
    }
   ],
   "source": [
    "history = model.fit(X_train, Y_train, # Train the model using the training set...\n",
    "          batch_size=batch_size, epochs=num_epochs,\n",
    "          verbose=1, validation_split=0.1) # ...holding out 10% of the data for validation"
   ]
  },
  {
   "cell_type": "code",
   "execution_count": 12,
   "metadata": {},
   "outputs": [
    {
     "data": {
      "text/plain": [
       "{'batch_size': 128,\n",
       " 'do_validation': True,\n",
       " 'epochs': 20,\n",
       " 'metrics': ['loss', 'acc', 'val_loss', 'val_acc'],\n",
       " 'samples': 54000,\n",
       " 'verbose': 1}"
      ]
     },
     "execution_count": 12,
     "metadata": {},
     "output_type": "execute_result"
    }
   ],
   "source": [
    "history.params"
   ]
  },
  {
   "cell_type": "code",
   "execution_count": 13,
   "metadata": {},
   "outputs": [
    {
     "data": {
      "text/plain": [
       "{'acc': [0.93320370366838246,\n",
       "  0.97362962966495092,\n",
       "  0.98298148148148146,\n",
       "  0.9887407407407407,\n",
       "  0.9907407407407407,\n",
       "  0.99220370365072175,\n",
       "  0.99429629624331439,\n",
       "  0.99361111111111111,\n",
       "  0.99487037031738845,\n",
       "  0.9952037037037037,\n",
       "  0.99555555555555553,\n",
       "  0.99742592592592594,\n",
       "  0.99657407407407406,\n",
       "  0.99592592592592588,\n",
       "  0.99727777777777782,\n",
       "  0.99759259259259259,\n",
       "  0.99698148148148147,\n",
       "  0.99659259259259259,\n",
       "  0.99837037037037035,\n",
       "  0.99842592592592594],\n",
       " 'loss': [0.22969011269233844,\n",
       "  0.083814107696215306,\n",
       "  0.053340408792374311,\n",
       "  0.035700464509565523,\n",
       "  0.028415165638206182,\n",
       "  0.023194558339262449,\n",
       "  0.01734717335689951,\n",
       "  0.018903483948842795,\n",
       "  0.01483916344748879,\n",
       "  0.014136188557164536,\n",
       "  0.01362741678175344,\n",
       "  0.0079974225247192582,\n",
       "  0.011173214733333292,\n",
       "  0.012002236604112787,\n",
       "  0.0078907485657578533,\n",
       "  0.0078138771694610584,\n",
       "  0.0092543915426401696,\n",
       "  0.0099837583741086908,\n",
       "  0.0045775625572401892,\n",
       "  0.0050460583646576938],\n",
       " 'val_acc': [0.96966666634877519,\n",
       "  0.97866666634877519,\n",
       "  0.9803333330154419,\n",
       "  0.9791666661898295,\n",
       "  0.9749999996821086,\n",
       "  0.98116666618982951,\n",
       "  0.97666666682561243,\n",
       "  0.98166666618982956,\n",
       "  0.97633333285649615,\n",
       "  0.98099999952316286,\n",
       "  0.98400000015894573,\n",
       "  0.98333333285649616,\n",
       "  0.97999999952316286,\n",
       "  0.9804999995231628,\n",
       "  0.98399999952316286,\n",
       "  0.98166666618982956,\n",
       "  0.9824999995231628,\n",
       "  0.98433333285649616,\n",
       "  0.98383333285649621,\n",
       "  0.98099999952316286],\n",
       " 'val_loss': [0.099233867168426512,\n",
       "  0.072615306834379834,\n",
       "  0.066057203774650894,\n",
       "  0.073120672941207887,\n",
       "  0.093869212120771414,\n",
       "  0.071450149934738874,\n",
       "  0.092258868116885426,\n",
       "  0.079325872649438675,\n",
       "  0.10579219937231392,\n",
       "  0.085666519521968437,\n",
       "  0.079262047071970307,\n",
       "  0.078500965790512661,\n",
       "  0.092859128381736808,\n",
       "  0.094550392109590278,\n",
       "  0.080542152005868659,\n",
       "  0.091642812907656968,\n",
       "  0.089429146493571657,\n",
       "  0.084400692559351828,\n",
       "  0.084784308347671561,\n",
       "  0.10106238250834092]}"
      ]
     },
     "execution_count": 13,
     "metadata": {},
     "output_type": "execute_result"
    }
   ],
   "source": [
    "history.history"
   ]
  },
  {
   "cell_type": "code",
   "execution_count": 14,
   "metadata": {},
   "outputs": [
    {
     "name": "stdout",
     "output_type": "stream",
     "text": [
      " 9664/10000 [===========================>..] - ETA: 0sscore:: [0.08414624073373507, 0.98160000000000003]\n"
     ]
    }
   ],
   "source": [
    "score = model.evaluate(X_test, Y_test, verbose=1) # Evaluate the trained model on the test set!\n",
    "print('score::',score)"
   ]
  },
  {
   "cell_type": "code",
   "execution_count": 15,
   "metadata": {},
   "outputs": [
    {
     "name": "stdout",
     "output_type": "stream",
     "text": [
      "Test score: 0.0841462407337\n",
      "Test accuracy: 0.9816\n"
     ]
    }
   ],
   "source": [
    "print('Test score:', score[0])\n",
    "print('Test accuracy:',score[1])"
   ]
  },
  {
   "cell_type": "markdown",
   "metadata": {},
   "source": [
    "Now lets predict one single sample"
   ]
  },
  {
   "cell_type": "code",
   "execution_count": 17,
   "metadata": {},
   "outputs": [
    {
     "name": "stdout",
     "output_type": "stream",
     "text": [
      "[ 0.  0.  0.  0.  0.  0.  0.  1.  0.  0.]\n"
     ]
    },
    {
     "data": {
      "text/plain": [
       "<matplotlib.image.AxesImage at 0x270d5bfe860>"
      ]
     },
     "execution_count": 17,
     "metadata": {},
     "output_type": "execute_result"
    },
    {
     "data": {
      "image/png": "[encoded data removed]",
      "text/plain": [
       "<matplotlib.figure.Figure at 0x270c1783f98>"
      ]
     },
     "metadata": {},
     "output_type": "display_data"
    }
   ],
   "source": [
    "import matplotlib.pyplot as plt\n",
    "%matplotlib inline\n",
    "X_test_0 = X_test[0,:].reshape(1,height * width)\n",
    "Y_test_0 = Y_test[0,:]\n",
    "print(Y_test_0)\n",
    "plt.imshow(X_test_0.reshape(28,28))"
   ]
  },
  {
   "cell_type": "code",
   "execution_count": 19,
   "metadata": {},
   "outputs": [
    {
     "name": "stdout",
     "output_type": "stream",
     "text": [
      "Label of testing sample: 7\n",
      "\n",
      "Output of the softmax layer: [  4.46629025e-17   3.17146461e-12   8.96795767e-13   2.02302577e-10\n",
      "   2.23746927e-19   1.15318482e-17   3.32788719e-18   1.00000000e+00\n",
      "   8.63590125e-18   4.20364004e-12]\n",
      "\n",
      "Neural Network prediction: 7\n"
     ]
    }
   ],
   "source": [
    "import numpy as np\n",
    "pred = model.predict(X_test_0)\n",
    "print('Label of testing sample:', np.argmax(Y_test_0))\n",
    "print('\\nOutput of the softmax layer:',pred[0])\n",
    "print('\\nNeural Network prediction:', np.argmax(pred[0]))"
   ]
  },
  {
   "cell_type": "code",
   "execution_count": null,
   "metadata": {
    "collapsed": true
   },
   "outputs": [],
   "source": []
  }
 ],
 "metadata": {
  "kernelspec": {
   "display_name": "Python 3",
   "language": "python",
   "name": "python3"
  },
  "language_info": {
   "codemirror_mode": {
    "name": "ipython",
    "version": 3
   },
   "file_extension": ".py",
   "mimetype": "text/x-python",
   "name": "python",
   "nbconvert_exporter": "python",
   "pygments_lexer": "ipython3",
   "version": "3.6.1"
  }
 },
 "nbformat": 4,
 "nbformat_minor": 2
}
